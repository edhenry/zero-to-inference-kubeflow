{
 "cells": [
  {
   "cell_type": "code",
   "execution_count": 19,
   "id": "8a8c246c-ef11-426a-9cd3-2fd89e2f3b61",
   "metadata": {},
   "outputs": [
    {
     "name": "stdout",
     "output_type": "stream",
     "text": [
      "Prediction for the image\n"
     ]
    },
    {
     "data": {
      "image/png": "[encoded data removed]",
      "text/plain": [
       "<PIL.BmpImagePlugin.BmpImageFile image mode=L size=28x28 at 0x7EFD70A89E20>"
      ]
     },
     "metadata": {},
     "output_type": "display_data"
    },
    {
     "name": "stdout",
     "output_type": "stream",
     "text": [
      "{'predictions': [{'predictions': [0.0, 0.0, 0.0, 0.0, 0.0, 0.0, 0.0, 0.0, 0.0, 1.0], 'classes': 9}]}\n"
     ]
    }
   ],
   "source": [
    "import numpy as np\n",
    "from PIL import Image\n",
    "import requests\n",
    "\n",
    "# Specify the image path here.\n",
    "image = Image.open(\"9.bmp\")\n",
    "data = np.array(image.convert('L').resize((28, 28))).astype(float).reshape(-1, 28, 28, 1)\n",
    "data_formatted = np.array2string(data, separator=\",\", formatter={\"float\": lambda x: \"%.1f\" % x})\n",
    "json_request = '{{ \"instances\" : {} }}'.format(data_formatted)\n",
    "\n",
    "# Specify the prediction URL. If you are runing this notebook outside of Kubernetes cluster, you should set the Cluster IP.\n",
    "# If the request is done in a local machine, follow this example to add the authservice_session to authorize the KFServing requests\n",
    "# https://github.com/kubeflow/kfserving/tree/master/docs/samples/istio-dex#authentication\n",
    "url = \"http://mnist-sample-1.kubeflow-user-example-com.svc.cluster.local/v1/models/mnist-sample-1:predict\"\n",
    "response = requests.post(url, data=json_request)\n",
    "\n",
    "print(\"Prediction for the image\")\n",
    "display(image)\n",
    "print(response.json())"
   ]
  },
  {
   "cell_type": "code",
   "execution_count": null,
   "id": "18ce70ae-8cf0-4607-b1c5-e1ab8a7ce0c5",
   "metadata": {},
   "outputs": [],
   "source": []
  }
 ],
 "metadata": {
  "kernelspec": {
   "display_name": "Python 3",
   "language": "python",
   "name": "python3"
  },
  "language_info": {
   "codemirror_mode": {
    "name": "ipython",
    "version": 3
   },
   "file_extension": ".py",
   "mimetype": "text/x-python",
   "name": "python",
   "nbconvert_exporter": "python",
   "pygments_lexer": "ipython3",
   "version": "3.8.10"
  }
 },
 "nbformat": 4,
 "nbformat_minor": 5
}
